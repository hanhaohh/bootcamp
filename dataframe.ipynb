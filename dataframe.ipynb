{
 "cells": [
  {
   "cell_type": "code",
   "execution_count": 1,
   "metadata": {},
   "outputs": [],
   "source": [
    "import urllib.request\n",
    "from pyspark import SparkContext \n",
    "\n",
    "sc = SparkContext()\n",
    "f = urllib.request.urlretrieve (\"http://kdd.ics.uci.edu/databases/kddcup99/kddcup.data_10_percent.gz\", \"kddcup.data_10_percent.gz\")\n",
    "data_file = \"kddcup.data_10_percent.gz\"\n",
    "raw_data = sc.textFile(data_file)\n"
   ]
  },
  {
   "cell_type": "code",
   "execution_count": 2,
   "metadata": {},
   "outputs": [],
   "source": [
    "from pyspark.sql import SQLContext \n",
    "sql_context = SQLContext(sc)"
   ]
  },
  {
   "cell_type": "code",
   "execution_count": 3,
   "metadata": {},
   "outputs": [],
   "source": [
    "from pyspark.sql import Row\n",
    "csv_data = raw_data.map(lambda line: line.split(\",\"))"
   ]
  },
  {
   "cell_type": "code",
   "execution_count": 4,
   "metadata": {},
   "outputs": [],
   "source": [
    "def define_schema(li):\n",
    "    row = Row(\n",
    "        duration=int(li[0]), \n",
    "        protocol_type=li[1],\n",
    "        service=li[2],\n",
    "        flag=li[3],\n",
    "        src_bytes=int(li[4]),\n",
    "        dst_bytes=int(li[5])\n",
    "    )\n",
    "    return row \n",
    "rdd_row = csv_data.map(define_schema)"
   ]
  },
  {
   "cell_type": "code",
   "execution_count": 5,
   "metadata": {},
   "outputs": [
    {
     "data": {
      "text/plain": [
       "[Row(dst_bytes=5450, duration=0, flag='SF', protocol_type='tcp', service='http', src_bytes=181)]"
      ]
     },
     "execution_count": 5,
     "metadata": {},
     "output_type": "execute_result"
    }
   ],
   "source": [
    "rdd_row.take(1)"
   ]
  },
  {
   "cell_type": "code",
   "execution_count": 6,
   "metadata": {},
   "outputs": [],
   "source": [
    "df = rdd_row.toDF()\n",
    "df.registerTempTable(\"connection\")"
   ]
  },
  {
   "cell_type": "code",
   "execution_count": 17,
   "metadata": {},
   "outputs": [
    {
     "data": {
      "text/plain": [
       "{Row(flag='OTH'),\n",
       " Row(flag='REJ'),\n",
       " Row(flag='RSTO'),\n",
       " Row(flag='RSTOS0'),\n",
       " Row(flag='RSTR'),\n",
       " Row(flag='S0'),\n",
       " Row(flag='S1'),\n",
       " Row(flag='S2'),\n",
       " Row(flag='S3'),\n",
       " Row(flag='SF'),\n",
       " Row(flag='SH')}"
      ]
     },
     "execution_count": 17,
     "metadata": {},
     "output_type": "execute_result"
    }
   ],
   "source": [
    "set(df.select([\"flag\"]).collect())"
   ]
  },
  {
   "cell_type": "code",
   "execution_count": 25,
   "metadata": {},
   "outputs": [],
   "source": [
    "flag_li = [\n",
    "    [\"OTH\", 1], [\"REJ\", 2], [\"RSTO\", 3], [\"RSTOS0\", 4], [\"RSTR\", 5], [\"S0\", 6], [\"S1\", 7], [\"S2\", 8], [\"SF\", 9], [\"SH\", 10]\n",
    "]"
   ]
  },
  {
   "cell_type": "code",
   "execution_count": 26,
   "metadata": {},
   "outputs": [],
   "source": [
    "flag_rdd = sc.parallelize(flag_li)"
   ]
  },
  {
   "cell_type": "code",
   "execution_count": 27,
   "metadata": {},
   "outputs": [],
   "source": [
    "flag_row_rdd = flag_rdd.map(lambda li: Row(flag_type=li[0], flag_value=li[1]))"
   ]
  },
  {
   "cell_type": "code",
   "execution_count": 28,
   "metadata": {},
   "outputs": [],
   "source": [
    "flag_df = flag_row_rdd.toDF()"
   ]
  },
  {
   "cell_type": "code",
   "execution_count": 29,
   "metadata": {},
   "outputs": [
    {
     "name": "stdout",
     "output_type": "stream",
     "text": [
      "+---------+----------+\n",
      "|flag_type|flag_value|\n",
      "+---------+----------+\n",
      "|      OTH|         1|\n",
      "|      REJ|         2|\n",
      "|     RSTO|         3|\n",
      "|   RSTOS0|         4|\n",
      "|     RSTR|         5|\n",
      "|       S0|         6|\n",
      "|       S1|         7|\n",
      "|       S2|         8|\n",
      "|       SF|         9|\n",
      "|       SH|        10|\n",
      "+---------+----------+\n",
      "\n"
     ]
    }
   ],
   "source": [
    "flag_df.show()"
   ]
  },
  {
   "cell_type": "code",
   "execution_count": 30,
   "metadata": {},
   "outputs": [],
   "source": [
    "flag_df.registerTempTable(\"flag_table\")"
   ]
  },
  {
   "cell_type": "code",
   "execution_count": 31,
   "metadata": {},
   "outputs": [],
   "source": [
    "joined_table = sql_context.sql(''' \n",
    "    select connection.*, flag_table.* \n",
    "      from \n",
    "        connection left join \n",
    "            flag_table \n",
    "            on connection.flag = flag_table.flag_type\n",
    "''')"
   ]
  },
  {
   "cell_type": "code",
   "execution_count": 32,
   "metadata": {},
   "outputs": [
    {
     "name": "stdout",
     "output_type": "stream",
     "text": [
      "+---------+--------+------+-------------+--------+---------+---------+----------+\n",
      "|dst_bytes|duration|  flag|protocol_type| service|src_bytes|flag_type|flag_value|\n",
      "+---------+--------+------+-------------+--------+---------+---------+----------+\n",
      "|        0|       1|RSTOS0|          tcp| private|        0|   RSTOS0|         4|\n",
      "|        0|       1|RSTOS0|          tcp| private|        0|   RSTOS0|         4|\n",
      "|        0|       1|RSTOS0|          tcp| private|        0|   RSTOS0|         4|\n",
      "|        0|       1|RSTOS0|          tcp| private|        0|   RSTOS0|         4|\n",
      "|        0|       1|RSTOS0|          tcp| private|        0|   RSTOS0|         4|\n",
      "|        0|       1|RSTOS0|          tcp| private|        0|   RSTOS0|         4|\n",
      "|        0|       1|RSTOS0|          tcp| private|        0|   RSTOS0|         4|\n",
      "|        0|       1|RSTOS0|          tcp| private|        0|   RSTOS0|         4|\n",
      "|        0|       1|RSTOS0|          tcp| private|        0|   RSTOS0|         4|\n",
      "|        0|       1|RSTOS0|          tcp| private|        0|   RSTOS0|         4|\n",
      "|        0|   36438|RSTOS0|          tcp| private|        0|   RSTOS0|         4|\n",
      "|      179|      60|    S3|          tcp|  telnet|      125|     null|      null|\n",
      "|      179|      60|    S3|          tcp|  telnet|      126|     null|      null|\n",
      "|     4011|       0|    S3|          tcp|    http|      304|     null|      null|\n",
      "|        0|       0|    S3|          tcp|ftp_data|       13|     null|      null|\n",
      "|    13335|       0|    S3|          tcp|    http|      303|     null|      null|\n",
      "|    22776|       0|    S3|          tcp|    http|      193|     null|      null|\n",
      "|      333|       1|    S3|          tcp|    smtp|     1416|     null|      null|\n",
      "|     2698|       0|    S3|          tcp|    http|      307|     null|      null|\n",
      "|        0|    5063|    S3|          tcp|   other|  5133877|     null|      null|\n",
      "+---------+--------+------+-------------+--------+---------+---------+----------+\n",
      "only showing top 20 rows\n",
      "\n"
     ]
    }
   ],
   "source": [
    "joined_table.show()"
   ]
  },
  {
   "cell_type": "code",
   "execution_count": null,
   "metadata": {},
   "outputs": [],
   "source": []
  }
 ],
 "metadata": {
  "kernelspec": {
   "display_name": "Python 3",
   "language": "python",
   "name": "python3"
  },
  "language_info": {
   "codemirror_mode": {
    "name": "ipython",
    "version": 3
   },
   "file_extension": ".py",
   "mimetype": "text/x-python",
   "name": "python",
   "nbconvert_exporter": "python",
   "pygments_lexer": "ipython3",
   "version": "3.7.6"
  }
 },
 "nbformat": 4,
 "nbformat_minor": 4
}
